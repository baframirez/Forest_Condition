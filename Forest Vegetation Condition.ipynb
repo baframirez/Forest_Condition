{
 "cells": [
  {
   "cell_type": "code",
   "execution_count": 1,
   "metadata": {},
   "outputs": [],
   "source": [
    "import ee\n",
    "import folium\n",
    "import pandas as pd"
   ]
  },
  {
   "cell_type": "code",
   "execution_count": 2,
   "metadata": {},
   "outputs": [],
   "source": [
    "# The first time to authenticate with your Google account\n",
    "#ee.Authenticate()\n",
    "# Initialize Earth Engine\n",
    "ee.Initialize()"
   ]
  },
  {
   "cell_type": "markdown",
   "metadata": {},
   "source": [
    "**We've loaded the boundaries for the parks we're interested in, but first let's explore how the park names are expressed in the collection.**"
   ]
  },
  {
   "cell_type": "code",
   "execution_count": 3,
   "metadata": {},
   "outputs": [],
   "source": [
    "nps = ee.FeatureCollection('WCMC/WDPA/202006/polygons')"
   ]
  },
  {
   "cell_type": "code",
   "execution_count": 4,
   "metadata": {},
   "outputs": [
    {
     "name": "stdout",
     "output_type": "stream",
     "text": [
      "['WDPAID', 'REP_AREA', 'OWN_TYPE', 'REP_M_AREA', 'INT_CRIT', 'GOV_TYPE', 'ISO3', 'GIS_AREA', 'DESIG', 'STATUS', 'NO_TAKE', 'PA_DEF', 'WDPA_PID', 'MARINE', 'GIS_M_AREA', 'ORIG_NAME', 'DESIG_ENG', 'MANG_PLAN', 'NAME', 'DESIG_TYPE', 'METADATAID', 'MANG_AUTH', 'STATUS_YR', 'PARENT_ISO', 'NO_TK_AREA', 'VERIF', 'IUCN_CAT', 'SUB_LOC', 'system:index']\n"
     ]
    }
   ],
   "source": [
    "#Here I view how it's stored the name of the parks.\n",
    "propertyN=nps.first().propertyNames().getInfo()\n",
    "print(propertyN)"
   ]
  },
  {
   "cell_type": "code",
   "execution_count": 5,
   "metadata": {},
   "outputs": [],
   "source": [
    "#Take the property (NAME) and retrun a list\n",
    "names = nps.aggregate_array('NAME').getInfo()\n",
    "#rep_area=nps.aggregate_array('REP_AREA').getInfo()\n",
    "#rep_m_area=nps.aggregate_array('REP_M_AREA').getInfo()\n",
    "gov_type=nps.aggregate_array('GOV_TYPE').getInfo()\n",
    "#mang_auth=nps.aggregate_array('MANG_AUTH').getInfo()"
   ]
  },
  {
   "cell_type": "code",
   "execution_count": 6,
   "metadata": {},
   "outputs": [
    {
     "name": "stdout",
     "output_type": "stream",
     "text": [
      "['Comunidade de Montes Veciñais en Man Común de Santiago de Covelo', 'Comunidade do Monte Veciñal en Man Común de Froxán', 'Parque Natural Municipal Caixa D Água', 'Parque Natural Municipal De São Gonçalo', 'Parque Natural Municipal Do Manguezal De Itanguá', 'Parque Estadual Da Fonte Grande', 'Parque Natural Municipal Verde Vale', 'Parque Natural Municipal De Conceição Da Barra', 'Parque Natural Municipal Vale Do Mulembá', 'Parque Natural Municipal Do Tabuleiro']\n"
     ]
    }
   ],
   "source": [
    "#Print the list\n",
    "print(names[:10])\n"
   ]
  },
  {
   "cell_type": "code",
   "execution_count": 7,
   "metadata": {},
   "outputs": [],
   "source": [
    "#Here we explore others properties to see if it's possible to group parks by countries\n",
    "gov_type_serie=pd.Series(gov_type)"
   ]
  },
  {
   "cell_type": "code",
   "execution_count": 8,
   "metadata": {},
   "outputs": [
    {
     "data": {
      "text/plain": [
       "array(['Local communities', 'Sub-national ministry or agency',\n",
       "       'Federal or national ministry or agency', 'Not Reported',\n",
       "       'Indigenous peoples', 'Collaborative governance',\n",
       "       'Government-delegated management', 'Individual landowners',\n",
       "       'Transboundary governance', 'Joint governance',\n",
       "       'Non-profit organisations', 'For-profit organisations'],\n",
       "      dtype=object)"
      ]
     },
     "execution_count": 8,
     "metadata": {},
     "output_type": "execute_result"
    }
   ],
   "source": [
    "gov_type_serie.unique()"
   ]
  },
  {
   "cell_type": "code",
   "execution_count": 9,
   "metadata": {},
   "outputs": [],
   "source": [
    "#Now let's use pandas to search our national parks\n",
    "names_serie=pd.Series(names)"
   ]
  },
  {
   "cell_type": "code",
   "execution_count": 10,
   "metadata": {},
   "outputs": [
    {
     "name": "stdout",
     "output_type": "stream",
     "text": [
      "Occurrences of voreca in the series: 218973    Cerro Chovoreca\n",
      "dtype: object\n"
     ]
    }
   ],
   "source": [
    "# The string to search for the parks that interest us\n",
    "search_string = 'voreca'\n",
    "\n",
    "# Boolean indexing to find all occurrences containing the search string\n",
    "results = names_serie[names_serie.str.contains(search_string)]\n",
    "\n",
    "# Print the results\n",
    "print('Occurrences of', search_string, 'in the series:', results)"
   ]
  },
  {
   "cell_type": "markdown",
   "metadata": {},
   "source": [
    "**Now let's find the others mains parks in PY**: https://parquesnacionalesdelparaguay.blogspot.com/2012/07/mapa-de-las-areas-silvestres-protegidas.html"
   ]
  },
  {
   "cell_type": "code",
   "execution_count": 11,
   "metadata": {},
   "outputs": [
    {
     "name": "stdout",
     "output_type": "stream",
     "text": [
      "Occurrences of fensores in the series: 218559    Defensores del Chaco\n",
      "dtype: object\n",
      "Occurrences of danos in the series: 188262                                Médanos de Samalayuca\n",
      "214484                                      Medanos de Coro\n",
      "216312    Ensenada de Rionegro, los Bajos Aledanos, las ...\n",
      "218560                                    Medanos del Chaco\n",
      "dtype: object\n",
      "Occurrences of gripino in the series: 218549    Teniente Agripino Enciso\n",
      "dtype: object\n",
      "Occurrences of Cabrera in the series: 3634                       Sierra de la Cabrera - ZEPA\n",
      "3706                              Sierra de la Cabrera\n",
      "5331                           Sierra De Cabrera-Bedar\n",
      "5696                           Sierra de Cabrera-Bédar\n",
      "8840                           Archipielago De Cabrera\n",
      "8932                           Archipielago De Cabrera\n",
      "9173      Espacio marino del sur de Mallorca y Cabrera\n",
      "9221                              Arxipèlag de Cabrera\n",
      "218967                          Cerro Cabrera - Timane\n",
      "dtype: object\n",
      "Occurrences of Negro in the series: 200                                      Ríos Negro y Aller\n",
      "517                                             Roque Negro\n",
      "1481                                         Montañón Negro\n",
      "1767          Serra De Santa Bárbara E Dos Mistérios Negros\n",
      "2109                                              Río Negro\n",
      "22363     Negros Occidental Coastal Wetlands Conservatio...\n",
      "22875                                       Northern Negros\n",
      "184588                                  Negro Canyon - DLRT\n",
      "201331                                    Negro Bill Canyon\n",
      "207053                         Bosque Estatal De Toro Negro\n",
      "207449                                    Médio Rio Negro I\n",
      "207465                                       Alto Rio Negro\n",
      "214937                                   Cienaga los Negros\n",
      "215023                                  Rio Negro Sopladora\n",
      "215484                                           Cano Negro\n",
      "215487                                           Caño Negro\n",
      "215593                  Parque Estadual Rio Negro Setor Sul\n",
      "215594                Parque Estadual Rio Negro Setor Norte\n",
      "215635    Área De Proteção Ambiental Margem Direita Do R...\n",
      "215639    Área De Proteção Ambiental Margem Esquerda Do ...\n",
      "215640    Área De Proteção Ambiental Margem Esquerda Do ...\n",
      "215647    Reserva De Desenvolvimento Sustentável Do Rio ...\n",
      "215660                                            Rio Negro\n",
      "215663                                   Médio Rio Negro II\n",
      "215781                                      Baixo Rio Negro\n",
      "215803                                   Baixo Rio Negro II\n",
      "216560                            El Descanso del Rio Negro\n",
      "216594                                  Rios Blanco y Negro\n",
      "217049                                         Arroyo Negro\n",
      "218310    Complejo Lacustre Laguna del Negro Francisco y...\n",
      "218525                                  Ríos Blanco y Negro\n",
      "218561                                            Rio Negro\n",
      "218660                                      Rio Negro Ocaia\n",
      "218873                                      Rio Negro Ocaia\n",
      "219055                                          Churo Negro\n",
      "219119    Reserva Particular del Patrimonio Natural (RPP...\n",
      "220454             Parque Estadual Do Pantanal Do Rio Negro\n",
      "dtype: object\n",
      "Occurrences of uazu in the series: 218327                Ñu Guazu\n",
      "218474    Iguazu National Park\n",
      "219048                Ñu Guazu\n",
      "dtype: object\n",
      "Occurrences of cyre in the series: 218335    Reserva Biológica Isla Yacyreta\n",
      "dtype: object\n",
      "Occurrences of puku in the series: 22848                                 Dudpukuria-Dhopachari\n",
      "97540                               Stanište Tisa Na Papuku\n",
      "180577                                         Ihupuku Road\n",
      "181169                                               Hapuku\n",
      "181529                                     Orangipuku River\n",
      "182742                                    Beach Road Hapuku\n",
      "182769                                         Hapuku River\n",
      "183110    Protected Private Land - Boyd, Cemetery Bush H...\n",
      "186751                                        Kopuku Stream\n",
      "217980                    Moutere Ihupuku / Campbell Island\n",
      "dtype: object\n",
      "Occurrences of guepey in the series: Series([], dtype: object)\n",
      "Occurrences of hopi in the series: 5966      Ile De Fontchopine\n",
      "115347            Pre Chopin\n",
      "dtype: object\n",
      "Occurrences of rary in the series: 43018     2032031 Nedraryd\n",
      "48251             Nedraryd\n",
      "64404           Naturarysä\n",
      "157688       Loch Lieurary\n",
      "163965               Crary\n",
      "215758               Arary\n",
      "219046        Bosque Arary\n",
      "dtype: object\n"
     ]
    }
   ],
   "source": [
    "search_string_list=['fensores','danos','gripino','Cabrera','Negro', 'uazu','cyre','puku','guepey','hopi','rary']\n",
    "for i in search_string_list:\n",
    "    results = names_serie[names_serie.str.contains(i, na=False)]\n",
    "    print('Occurrences of', i, 'in the series:', results)"
   ]
  },
  {
   "cell_type": "code",
   "execution_count": 12,
   "metadata": {},
   "outputs": [],
   "source": [
    "#The parks of interes has the next name in the dataset: \n",
    "#Cerro Chovoreca, Defensores del Chaco, Medanos del Chaco, Teniente Agripino Enciso, Cerro Cabrera - Timane, Rionegro, \n",
    "# Ñu Guazu, Reserva Biológica Isla Yacyreta, Bosque Arary"
   ]
  },
  {
   "cell_type": "markdown",
   "metadata": {},
   "source": [
    "**There are two pairs with the same names (Rio Negro and Ñu Guasu), so let's see how we can differentiate them**"
   ]
  },
  {
   "cell_type": "code",
   "execution_count": 13,
   "metadata": {},
   "outputs": [],
   "source": [
    "#We create a list with the duplicate words\n",
    "duplicate_names = ['Rio Negro', 'Ñu Guazu', 'Medanos del Chaco', 'Defensores del Chaco']\n",
    "\n",
    "filtered_features = nps.filter(ee.Filter.inList('NAME', duplicate_names))\n",
    "\n",
    "# Convert filtered features to a list\n",
    "features = filtered_features.toList(filtered_features.size())\n",
    "\n",
    "# Extract properties for each filtered feature\n",
    "def extract_properties(feature):\n",
    "    feature = ee.Feature(feature)  # Cast to Feature\n",
    "    properties = feature.toDictionary()  # Get all properties\n",
    "    properties = properties.set('Park Name', feature.get('NAME'))  # Add 'Park Name' explicitly\n",
    "    return properties\n",
    "\n",
    "# Map the function to extract properties for the filtered features\n",
    "properties_list = features.map(lambda f: extract_properties(f)).getInfo()\n",
    "\n",
    "# Convert the list of dictionaries to a Pandas DataFrame\n",
    "df = pd.DataFrame(properties_list)"
   ]
  },
  {
   "cell_type": "code",
   "execution_count": 14,
   "metadata": {},
   "outputs": [
    {
     "data": {
      "text/html": [
       "<div>\n",
       "<style scoped>\n",
       "    .dataframe tbody tr th:only-of-type {\n",
       "        vertical-align: middle;\n",
       "    }\n",
       "\n",
       "    .dataframe tbody tr th {\n",
       "        vertical-align: top;\n",
       "    }\n",
       "\n",
       "    .dataframe thead th {\n",
       "        text-align: right;\n",
       "    }\n",
       "</style>\n",
       "<table border=\"1\" class=\"dataframe\">\n",
       "  <thead>\n",
       "    <tr style=\"text-align: right;\">\n",
       "      <th></th>\n",
       "      <th>DESIG</th>\n",
       "      <th>DESIG_ENG</th>\n",
       "      <th>DESIG_TYPE</th>\n",
       "      <th>GIS_AREA</th>\n",
       "      <th>GIS_M_AREA</th>\n",
       "      <th>GOV_TYPE</th>\n",
       "      <th>INT_CRIT</th>\n",
       "      <th>ISO3</th>\n",
       "      <th>IUCN_CAT</th>\n",
       "      <th>MANG_AUTH</th>\n",
       "      <th>...</th>\n",
       "      <th>PA_DEF</th>\n",
       "      <th>Park Name</th>\n",
       "      <th>REP_AREA</th>\n",
       "      <th>REP_M_AREA</th>\n",
       "      <th>STATUS</th>\n",
       "      <th>STATUS_YR</th>\n",
       "      <th>SUB_LOC</th>\n",
       "      <th>VERIF</th>\n",
       "      <th>WDPAID</th>\n",
       "      <th>WDPA_PID</th>\n",
       "    </tr>\n",
       "  </thead>\n",
       "  <tbody>\n",
       "    <tr>\n",
       "      <th>0</th>\n",
       "      <td>Ramsar Site, Wetland of International Importance</td>\n",
       "      <td>Ramsar Site, Wetland of International Importance</td>\n",
       "      <td>International</td>\n",
       "      <td>120284.651178</td>\n",
       "      <td>0</td>\n",
       "      <td>Federal or national ministry or agency</td>\n",
       "      <td>(i)(ii)(iii)(iv)(vii)(viii)</td>\n",
       "      <td>BRA</td>\n",
       "      <td>VI</td>\n",
       "      <td>Not Reported</td>\n",
       "      <td>...</td>\n",
       "      <td>1</td>\n",
       "      <td>Rio Negro</td>\n",
       "      <td>120016.144</td>\n",
       "      <td>0</td>\n",
       "      <td>Designated</td>\n",
       "      <td>2018</td>\n",
       "      <td>BR-AM</td>\n",
       "      <td>State Verified</td>\n",
       "      <td>555637330</td>\n",
       "      <td>555637330</td>\n",
       "    </tr>\n",
       "    <tr>\n",
       "      <th>1</th>\n",
       "      <td>Reserva de Recursos Manejados - Privado</td>\n",
       "      <td>Managed Resource Reserve</td>\n",
       "      <td>National</td>\n",
       "      <td>2.900834</td>\n",
       "      <td>0</td>\n",
       "      <td>Not Reported</td>\n",
       "      <td>Not Applicable</td>\n",
       "      <td>PRY</td>\n",
       "      <td>VI</td>\n",
       "      <td>Not Reported</td>\n",
       "      <td>...</td>\n",
       "      <td>1</td>\n",
       "      <td>Ñu Guazu</td>\n",
       "      <td>2.800</td>\n",
       "      <td>0</td>\n",
       "      <td>Designated</td>\n",
       "      <td>2006</td>\n",
       "      <td>PY-11</td>\n",
       "      <td>State Verified</td>\n",
       "      <td>555629395</td>\n",
       "      <td>555629395</td>\n",
       "    </tr>\n",
       "    <tr>\n",
       "      <th>2</th>\n",
       "      <td>Parque Nacional - Publico</td>\n",
       "      <td>National Park</td>\n",
       "      <td>National</td>\n",
       "      <td>7242.355026</td>\n",
       "      <td>0</td>\n",
       "      <td>Not Reported</td>\n",
       "      <td>Not Applicable</td>\n",
       "      <td>PRY</td>\n",
       "      <td>II</td>\n",
       "      <td>Not Reported</td>\n",
       "      <td>...</td>\n",
       "      <td>1</td>\n",
       "      <td>Defensores del Chaco</td>\n",
       "      <td>7207.230</td>\n",
       "      <td>0</td>\n",
       "      <td>Designated</td>\n",
       "      <td>1975</td>\n",
       "      <td>PY-17</td>\n",
       "      <td>State Verified</td>\n",
       "      <td>242</td>\n",
       "      <td>242</td>\n",
       "    </tr>\n",
       "    <tr>\n",
       "      <th>3</th>\n",
       "      <td>Parque Nacional - Publico</td>\n",
       "      <td>National Park</td>\n",
       "      <td>National</td>\n",
       "      <td>6082.351686</td>\n",
       "      <td>0</td>\n",
       "      <td>Not Reported</td>\n",
       "      <td>Not Applicable</td>\n",
       "      <td>PRY</td>\n",
       "      <td>II</td>\n",
       "      <td>Not Reported</td>\n",
       "      <td>...</td>\n",
       "      <td>1</td>\n",
       "      <td>Medanos del Chaco</td>\n",
       "      <td>5142.330</td>\n",
       "      <td>0</td>\n",
       "      <td>Designated</td>\n",
       "      <td>2004</td>\n",
       "      <td>PY-16;PY-17</td>\n",
       "      <td>State Verified</td>\n",
       "      <td>61554</td>\n",
       "      <td>61554</td>\n",
       "    </tr>\n",
       "    <tr>\n",
       "      <th>4</th>\n",
       "      <td>Parque Nacional - Publico</td>\n",
       "      <td>National Park</td>\n",
       "      <td>National</td>\n",
       "      <td>1273.443656</td>\n",
       "      <td>0</td>\n",
       "      <td>Not Reported</td>\n",
       "      <td>Not Applicable</td>\n",
       "      <td>PRY</td>\n",
       "      <td>II</td>\n",
       "      <td>Not Reported</td>\n",
       "      <td>...</td>\n",
       "      <td>1</td>\n",
       "      <td>Rio Negro</td>\n",
       "      <td>1237.860</td>\n",
       "      <td>0</td>\n",
       "      <td>Designated</td>\n",
       "      <td>2004</td>\n",
       "      <td>PY-17</td>\n",
       "      <td>State Verified</td>\n",
       "      <td>61556</td>\n",
       "      <td>61556</td>\n",
       "    </tr>\n",
       "    <tr>\n",
       "      <th>5</th>\n",
       "      <td>Reserva Natural - Privado</td>\n",
       "      <td>Natural Private Reserve</td>\n",
       "      <td>National</td>\n",
       "      <td>498.314601</td>\n",
       "      <td>0</td>\n",
       "      <td>Not Reported</td>\n",
       "      <td>Not Applicable</td>\n",
       "      <td>PRY</td>\n",
       "      <td>IV</td>\n",
       "      <td>Not Reported</td>\n",
       "      <td>...</td>\n",
       "      <td>1</td>\n",
       "      <td>Ñu Guazu</td>\n",
       "      <td>500.000</td>\n",
       "      <td>0</td>\n",
       "      <td>Designated</td>\n",
       "      <td>2004</td>\n",
       "      <td>PY-16</td>\n",
       "      <td>State Verified</td>\n",
       "      <td>555629439</td>\n",
       "      <td>555629439</td>\n",
       "    </tr>\n",
       "  </tbody>\n",
       "</table>\n",
       "<p>6 rows × 29 columns</p>\n",
       "</div>"
      ],
      "text/plain": [
       "                                              DESIG  \\\n",
       "0  Ramsar Site, Wetland of International Importance   \n",
       "1           Reserva de Recursos Manejados - Privado   \n",
       "2                         Parque Nacional - Publico   \n",
       "3                         Parque Nacional - Publico   \n",
       "4                         Parque Nacional - Publico   \n",
       "5                         Reserva Natural - Privado   \n",
       "\n",
       "                                          DESIG_ENG     DESIG_TYPE  \\\n",
       "0  Ramsar Site, Wetland of International Importance  International   \n",
       "1                          Managed Resource Reserve       National   \n",
       "2                                     National Park       National   \n",
       "3                                     National Park       National   \n",
       "4                                     National Park       National   \n",
       "5                           Natural Private Reserve       National   \n",
       "\n",
       "        GIS_AREA  GIS_M_AREA                                GOV_TYPE  \\\n",
       "0  120284.651178           0  Federal or national ministry or agency   \n",
       "1       2.900834           0                            Not Reported   \n",
       "2    7242.355026           0                            Not Reported   \n",
       "3    6082.351686           0                            Not Reported   \n",
       "4    1273.443656           0                            Not Reported   \n",
       "5     498.314601           0                            Not Reported   \n",
       "\n",
       "                      INT_CRIT ISO3 IUCN_CAT     MANG_AUTH  ... PA_DEF  \\\n",
       "0  (i)(ii)(iii)(iv)(vii)(viii)  BRA       VI  Not Reported  ...      1   \n",
       "1               Not Applicable  PRY       VI  Not Reported  ...      1   \n",
       "2               Not Applicable  PRY       II  Not Reported  ...      1   \n",
       "3               Not Applicable  PRY       II  Not Reported  ...      1   \n",
       "4               Not Applicable  PRY       II  Not Reported  ...      1   \n",
       "5               Not Applicable  PRY       IV  Not Reported  ...      1   \n",
       "\n",
       "              Park Name    REP_AREA REP_M_AREA      STATUS  STATUS_YR  \\\n",
       "0             Rio Negro  120016.144          0  Designated       2018   \n",
       "1              Ñu Guazu       2.800          0  Designated       2006   \n",
       "2  Defensores del Chaco    7207.230          0  Designated       1975   \n",
       "3     Medanos del Chaco    5142.330          0  Designated       2004   \n",
       "4             Rio Negro    1237.860          0  Designated       2004   \n",
       "5              Ñu Guazu     500.000          0  Designated       2004   \n",
       "\n",
       "       SUB_LOC           VERIF     WDPAID   WDPA_PID  \n",
       "0        BR-AM  State Verified  555637330  555637330  \n",
       "1        PY-11  State Verified  555629395  555629395  \n",
       "2        PY-17  State Verified        242        242  \n",
       "3  PY-16;PY-17  State Verified      61554      61554  \n",
       "4        PY-17  State Verified      61556      61556  \n",
       "5        PY-16  State Verified  555629439  555629439  \n",
       "\n",
       "[6 rows x 29 columns]"
      ]
     },
     "execution_count": 14,
     "metadata": {},
     "output_type": "execute_result"
    }
   ],
   "source": [
    "# The parks of interest are the largest parks in PRY territory. So we are interested in parks with index 2 and 3\n",
    "df"
   ]
  },
  {
   "cell_type": "markdown",
   "metadata": {},
   "source": [
    "**Now let's import the images and features**"
   ]
  },
  {
   "cell_type": "code",
   "execution_count": 15,
   "metadata": {},
   "outputs": [],
   "source": [
    "# Get MODIS 250m vegetation data.\n",
    "mod13 = ee.ImageCollection('MODIS/061/MOD13Q1')\n",
    "\n",
    "# Get the features of forest national parks and filter them by SUB_LOC \n",
    "# (the parks are located near the PY-16 and PY-17 routes)\n",
    "rep_area=['PY-17', 'PY-16','PY-16;PY-17']\n",
    "nps = (\n",
    "    ee.FeatureCollection('WCMC/WDPA/202006/polygons')\n",
    "    .filter(ee.Filter.inList('SUB_LOC', rep_area))\n",
    "    .filter(ee.Filter.inList('NAME', ['Cerro Chovoreca','Defensores del Chaco','Medanos del Chaco', 'Teniente Agripino Enciso', 'Cerro Cabrera - Timane', 'Rio Negro','Ñu Guazu']))\n",
    "    \n",
    ")"
   ]
  },
  {
   "cell_type": "markdown",
   "metadata": {},
   "source": [
    "**Compute annual summertime composites**"
   ]
  },
  {
   "cell_type": "markdown",
   "metadata": {},
   "source": [
    "Build an image collection with an image for each year from 2000 to 2019. Each of these images is calculated to be the maximum EVI in the summer months of its corresponding year. This is our measure of the status of the vegetation for each year. Also add the year as a band, in preparation for linear trend analysis."
   ]
  },
  {
   "cell_type": "code",
   "execution_count": 16,
   "metadata": {},
   "outputs": [],
   "source": [
    "#Filter MODIS images to summer months between Dec and Feb 2000-2019,\n",
    "#Add observation year as an image property.\n",
    "mod13_summer = (\n",
    "    mod13.filter(ee.Filter.calendarRange(12, 2, 'month'))\n",
    "    .filter(ee.Filter.calendarRange(2000, 2019, 'year'))\n",
    "    .map(lambda img: img.set('year', img.date().get('year')))\n",
    ")"
   ]
  },
  {
   "cell_type": "code",
   "execution_count": 17,
   "metadata": {},
   "outputs": [],
   "source": [
    "# Generate lists of images from the year using a join\n",
    "join = ee.Join.saveAll('same_year')\n",
    "condition = ee.Filter.equals(leftField='year', rightField='year')\n",
    "\n",
    "mod13_summer_annual_join = join.apply(\n",
    "    primary=mod13_summer.distinct('year'),\n",
    "    secondary=mod13_summer,\n",
    "    condition=condition\n",
    ")"
   ]
  },
  {
   "cell_type": "code",
   "execution_count": 18,
   "metadata": {},
   "outputs": [],
   "source": [
    "# Calculate annual max EVI composite images from the \"same year\" join lists\n",
    "def calculate_summer_stats(img):\n",
    "    year = img.get('year')\n",
    "    year_col = ee.ImageCollection.fromImages(img.get('same_year'))\n",
    "    max_evi = year_col.select('EVI').max()\n",
    "    yr = ee.Image.constant(ee.Number(year)).toShort()\n",
    "    return ee.Image.cat(yr, max_evi).rename(['year', 'max']).set('year', year)\n",
    "\n",
    "summer_stats = ee.ImageCollection(mod13_summer_annual_join.map(calculate_summer_stats))"
   ]
  },
  {
   "cell_type": "markdown",
   "metadata": {},
   "source": [
    "**Estimate trends and infer vegetation condition**"
   ]
  },
  {
   "cell_type": "markdown",
   "metadata": {},
   "source": [
    "Estimate a linear trend at each pixel by calculating its Sen's slope of maximum summer EVI with time. Calculate and visualize histograms of the regression slope values for each national park."
   ]
  },
  {
   "cell_type": "code",
   "execution_count": 19,
   "metadata": {},
   "outputs": [],
   "source": [
    "# Calculate time series slope using sensSlope()\n",
    "sens = summer_stats.reduce(ee.Reducer.sensSlope())"
   ]
  },
  {
   "cell_type": "code",
   "execution_count": 20,
   "metadata": {},
   "outputs": [],
   "source": [
    "# Function to calculate a histogram of slope values for a given geometry\n",
    "def get_histogram(sens_img, geometry, title):\n",
    "    # Calculate histogram as an ee.Array table\n",
    "    hist = sens_img.select('slope').reduceRegion(\n",
    "        reducer=ee.Reducer.autoHistogram(),\n",
    "        geometry=geometry,\n",
    "        scale=250,\n",
    "        maxPixels=1e13\n",
    "    )\n",
    "    \n",
    "    # Extract histogram array and bin/pixel count columns\n",
    "    hist_array = ee.Array(hist.get('slope'))\n",
    "    bin_bottom = hist_array.slice(1, 0, 1)\n",
    "    n_pixels = hist_array.slice(1, 1, None)\n",
    "\n",
    "    # Declare variables as global and then assign values\n",
    "    global bin_bottom_list\n",
    "    global n_pixels_list\n",
    "    # Convert arrays to Python lists for charting or visualization (if needed)\n",
    "    bin_bottom_list = bin_bottom.getInfo()\n",
    "    n_pixels_list = n_pixels.getInfo()\n",
    "    \n",
    "    # Print the histogram data\n",
    "    print(f\"Histogram for {title}:\")\n",
    "    print(\"Bin Bottom:\", bin_bottom_list)\n",
    "    print(\"Pixel Count:\", n_pixels_list)"
   ]
  },
  {
   "cell_type": "markdown",
   "metadata": {},
   "source": [
    "**Plot the information**"
   ]
  },
  {
   "cell_type": "code",
   "execution_count": 21,
   "metadata": {},
   "outputs": [],
   "source": [
    "# Get the slope histogram for specific geometries (parks)\n",
    "chovoreca_geometry = nps.filter(ee.Filter.eq('NAME', 'Cerro Chovoreca')).geometry()\n",
    "defensores_geometry = nps.filter(ee.Filter.eq('NAME', 'Defensores del Chaco')).geometry()\n"
   ]
  },
  {
   "cell_type": "code",
   "execution_count": 22,
   "metadata": {},
   "outputs": [],
   "source": [
    "import matplotlib.pyplot as plt"
   ]
  },
  {
   "cell_type": "code",
   "execution_count": 23,
   "metadata": {},
   "outputs": [],
   "source": [
    "# Define the function for the plot\n",
    "def plot_histogram(bin_bottom, n_pixels, title):\n",
    "    plt.figure(figsize=(12, 6))\n",
    "    plt.plot(bin_bottom, n_pixels, color='green', linestyle='-', linewidth=1.5)\n",
    "    plt.title(f\"{title} Forest Condition Trend Histogram\", fontsize=14)\n",
    "    plt.xlabel('Slope',fontsize=12)\n",
    "    plt.ylabel('Pixel Count',fontsize=12)\n",
    "    plt.grid(True, linestyle='--', alpha=0.6)\n",
    "    plt.show()"
   ]
  },
  {
   "cell_type": "code",
   "execution_count": 24,
   "metadata": {},
   "outputs": [
    {
     "name": "stdout",
     "output_type": "stream",
     "text": [
      "Histogram for Cerro Chovoreca:\n",
      "Bin Bottom: [[-79], [-78], [-77], [-76], [-75], [-74], [-73], [-72], [-71], [-70], [-69], [-68], [-67], [-66], [-65], [-64], [-63], [-62], [-61], [-60], [-59], [-58], [-57], [-56], [-55], [-54], [-53], [-52], [-51], [-50], [-49], [-48], [-47], [-46], [-45], [-44], [-43], [-42], [-41], [-40], [-39], [-38], [-37], [-36], [-35], [-34], [-33], [-32], [-31], [-30], [-29], [-28], [-27], [-26], [-25], [-24], [-23], [-22], [-21], [-20], [-19], [-18], [-17], [-16], [-15], [-14], [-13], [-12], [-11], [-10], [-9], [-8], [-7], [-6], [-5], [-4], [-3], [-2], [-1], [0], [1], [2], [3], [4], [5], [6], [7], [8], [9], [10], [11], [12], [13], [14], [15], [16], [17], [18], [19], [20], [21], [22], [23], [24], [25], [26], [27], [28], [29], [30], [31], [32], [33], [34], [35], [36], [37], [38], [39], [40], [41], [42], [43], [44], [45], [46], [47], [48], [49], [50], [51], [52], [53], [54], [55], [56], [57], [58], [59], [60], [61], [62], [63], [64], [65], [66], [67], [68], [69], [70], [71], [72], [73], [74], [75], [76], [77], [78], [79], [80], [81], [82], [83], [84], [85]]\n",
      "Pixel Count: [[1], [0], [2], [0], [0], [1], [1], [0], [2.9019607843137254], [0], [0], [4], [4], [0], [2], [2], [1], [2.8745098039215686], [7], [6], [6], [8], [5], [6], [4], [12], [14], [18], [20], [13.266666666666667], [19], [17], [23], [30.498039215686276], [20.50588235294118], [36.4156862745098], [30.231372549019607], [33.423529411764704], [56.31764705882353], [37.61176470588235], [53.2313725490196], [55.85098039215686], [67.72156862745098], [46.91372549019607], [68], [63.94509803921569], [68.50980392156862], [81.12941176470588], [75.74117647058824], [88.23529411764706], [88.29411764705881], [96.0392156862745], [115.25490196078431], [106.29411764705883], [126.99607843137255], [136.56862745098042], [136.71372549019608], [125.60784313725492], [150.73333333333335], [178.49411764705883], [187.67058823529413], [169.4392156862745], [169.37254901960785], [169.68627450980392], [193.25098039215686], [169.99607843137255], [218.16470588235296], [208.39607843137256], [218.20392156862746], [264.07058823529417], [227.24313725490197], [288.5725490196079], [274.3607843137255], [273.74117647058824], [264.81960784313725], [293.3882352941176], [279.2039215686275], [302.47058823529414], [378.74901960784314], [361.4823529411765], [362.84313725490205], [343.09411764705885], [361.50588235294117], [325.2745098039216], [341.36862745098034], [362.49803921568633], [386.13725490196083], [352.9764705882353], [333.4745098039216], [366.84705882352944], [328.51372549019607], [323.4901960784314], [338.08627450980396], [307.1490196078431], [295.17254901960786], [318.00392156862745], [291.08627450980396], [284.2627450980392], [241.8392156862745], [263.87450980392157], [249.3607843137255], [206.24705882352941], [202.37254901960785], [192.41960784313727], [190.12156862745098], [167.9921568627451], [165.57647058823528], [152.24705882352941], [139.21568627450984], [128.0313725490196], [92.62352941176471], [114.7607843137255], [105.67450980392157], [87.4078431372549], [83], [89], [72.56470588235294], [67.24705882352941], [59.95294117647059], [47.372549019607845], [36.51764705882353], [28.50588235294118], [33.26274509803922], [39.95686274509804], [31.749019607843138], [18.749019607843138], [19.87450980392157], [14.945098039215686], [17], [12], [6.639215686274509], [14], [9], [10], [7], [3.1254901960784314], [3], [4], [4], [2], [1], [2], [2], [0], [2], [1], [1], [2], [1], [0], [0], [1], [0], [0], [0], [2], [0], [0], [0], [1], [0], [0], [0], [0], [1]]\n"
     ]
    },
    {
     "data": {
      "image/png": "[encoded data removed]",
      "text/plain": [
       "<Figure size 1200x600 with 1 Axes>"
      ]
     },
     "metadata": {},
     "output_type": "display_data"
    }
   ],
   "source": [
    "# Example usage for Chovoreca\n",
    "get_histogram(sens, chovoreca_geometry, \"Cerro Chovoreca\") # Calculate and print histograms for the specified parks\n",
    "\n",
    "bin_bottom_chovoreca = bin_bottom_list  # Replace with output from get_histogram\n",
    "n_pixels_chovoreca = n_pixels_list\n",
    "plot_histogram(bin_bottom_chovoreca, n_pixels_chovoreca, \"Chovoreca\")"
   ]
  },
  {
   "cell_type": "code",
   "execution_count": 25,
   "metadata": {},
   "outputs": [
    {
     "name": "stdout",
     "output_type": "stream",
     "text": [
      "Histogram for Defensores del Chaco:\n",
      "Bin Bottom: [[-83], [-82], [-81], [-80], [-79], [-78], [-77], [-76], [-75], [-74], [-73], [-72], [-71], [-70], [-69], [-68], [-67], [-66], [-65], [-64], [-63], [-62], [-61], [-60], [-59], [-58], [-57], [-56], [-55], [-54], [-53], [-52], [-51], [-50], [-49], [-48], [-47], [-46], [-45], [-44], [-43], [-42], [-41], [-40], [-39], [-38], [-37], [-36], [-35], [-34], [-33], [-32], [-31], [-30], [-29], [-28], [-27], [-26], [-25], [-24], [-23], [-22], [-21], [-20], [-19], [-18], [-17], [-16], [-15], [-14], [-13], [-12], [-11], [-10], [-9], [-8], [-7], [-6], [-5], [-4], [-3], [-2], [-1], [0], [1], [2], [3], [4], [5], [6], [7], [8], [9], [10], [11], [12], [13], [14], [15], [16], [17], [18], [19], [20], [21], [22], [23], [24], [25], [26], [27], [28], [29], [30], [31], [32], [33], [34], [35], [36], [37], [38], [39], [40], [41], [42], [43], [44], [45], [46], [47], [48], [49], [50], [51], [52], [53], [54], [55], [56], [57], [58], [59], [60], [61], [62], [63], [64], [65], [66], [67], [68], [69], [70], [71], [72], [73], [74], [75], [76], [77], [78], [79], [80], [81], [82], [83], [84], [85], [86], [87], [88], [89], [90], [91], [92], [93], [94], [95], [96], [97], [98], [99], [100], [101], [102], [103], [104], [105], [106], [107], [108], [109], [110], [111], [112], [113], [114], [115], [116], [117], [118], [119], [120], [121], [122], [123], [124], [125], [126], [127], [128], [129], [130], [131], [132], [133], [134], [135], [136], [137], [138], [139], [140], [141], [142], [143], [144], [145], [146], [147], [148], [149], [150]]\n",
      "Pixel Count: [[1], [0], [0], [0], [0], [0], [0], [0], [0], [0], [0], [0], [0], [0], [0], [0], [1], [1], [0], [1], [0], [1], [3], [1], [2], [2], [2], [9], [6], [3], [3], [6], [8], [10], [18], [15], [13], [16], [23], [25.227450980392156], [27], [58], [59.54117647058823], [73], [92], [84.06274509803922], [87.32549019607843], [125.42745098039215], [149.03529411764706], [176.01960784313727], [204.5843137254902], [255.1921568627451], [278.12549019607843], [302.4980392156863], [381.48627450980393], [458.28627450980395], [494.1411764705882], [564.521568627451], [630.9333333333333], [743.1490196078431], [730.756862745098], [862.356862745098], [1003.8156862745099], [1046.403921568627], [1181.4588235294118], [1328.3176470588232], [1352.1372549019607], [1557.6196078431374], [1631.2078431372543], [1732.588235294118], [1860.435294117647], [2016.576470588235], [2071.9999999999995], [2196.5450980392156], [2314.666666666666], [2363.0196078431372], [2501.976470588235], [2530.1647058823523], [2675.8117647058816], [2572.925490196078], [2769.7843137254895], [2738.69019607843], [3105.0470588235294], [3070.5921568627436], [2816.423529411764], [2916.6352941176465], [2889.0274509803926], [2793.772549019608], [2767.023529411765], [2762.0039215686265], [2700.533333333333], [2812.066666666667], [2676.443137254901], [2675.3568627450977], [2526.862745098039], [2511.01568627451], [2456.737254901961], [2305.9568627450985], [2133.3568627450986], [2016.7725490196076], [2116.6078431372553], [1939.2470588235296], [1857.4549019607844], [1787.901960784314], [1612.9921568627449], [1620.3137254901958], [1417.2509803921569], [1348.8823529411764], [1260.2470588235294], [1227.5176470588235], [1111.6705882352937], [1079.2039215686275], [977.9647058823531], [904.7333333333333], [822.3294117647059], [760.2235294117647], [732.8470588235294], [662.5450980392156], [574.7803921568627], [542.1882352941177], [492.43529411764706], [480.9294117647059], [401.7647058823529], [345.3921568627451], [308.0235294117647], [322.81960784313725], [246.55686274509804], [237.8313725490196], [206.60392156862744], [195.97254901960784], [178.31372549019608], [170.078431372549], [119], [120.9921568627451], [98], [90.45882352941177], [83.06666666666666], [72.5921568627451], [65.68235294117648], [54.6], [55], [57], [33], [29], [26], [24], [18], [28], [14.101960784313725], [16], [11], [12], [16], [10], [15], [9], [11], [7], [1], [4], [6], [2], [1], [2], [1], [1], [2], [4], [1], [0], [0], [2], [2], [0], [1], [2], [0], [1], [0], [0], [1], [0], [1], [2], [0], [0], [0], [0], [1], [1], [0], [0], [0], [0], [1], [1], [1], [0], [1], [0], [0], [0], [0], [0], [0], [0], [0], [0], [0], [0], [0], [1], [0], [0], [0], [0], [0], [0], [0], [0], [0], [0], [0], [0], [0], [0], [0], [1], [0], [0], [0], [0], [0], [2]]\n"
     ]
    },
    {
     "data": {
      "image/png": "[encoded data removed]",
      "text/plain": [
       "<Figure size 1200x600 with 1 Axes>"
      ]
     },
     "metadata": {},
     "output_type": "display_data"
    }
   ],
   "source": [
    "# Example usage for Defensores del Chaco\n",
    "get_histogram(sens, defensores_geometry, \"Defensores del Chaco\") # Calculate and print histograms for the specified parks\n",
    "\n",
    "bin_bottom_chovoreca = bin_bottom_list  # Replace with output from get_histogram\n",
    "n_pixels_chovoreca = n_pixels_list\n",
    "plot_histogram(bin_bottom_chovoreca, n_pixels_chovoreca, \"Defensores\")"
   ]
  },
  {
   "cell_type": "markdown",
   "metadata": {},
   "source": [
    "**Infer pixel-wise vegetation greening or browning based on the sign of the slope value. Calculate summary of areas under greening and browning for each national park.**"
   ]
  },
  {
   "cell_type": "code",
   "execution_count": 26,
   "metadata": {},
   "outputs": [],
   "source": [
    "#Infer pixel-wise vegetation condition based on sign of the slope.\n",
    "cond = ee.Image.cat(sens.select('slope').gt(0).rename('greening'),\n",
    "                    sens.select('slope').lt(0).rename('browning'))\n",
    "\n",
    "#Calculate area under greening and browning in each national park.\n",
    "npsRes = cond.multiply(ee.Image.pixelArea()).reduceRegions(nps, ee.Reducer.sum(), 250)"
   ]
  },
  {
   "cell_type": "markdown",
   "metadata": {},
   "source": [
    "**Visualise results**"
   ]
  },
  {
   "cell_type": "code",
   "execution_count": 27,
   "metadata": {},
   "outputs": [],
   "source": [
    "# Function to format results of greening and browning\n",
    "def format_results(feature):\n",
    "    browning_sq_m = feature.getNumber('browning')\n",
    "    greening_sq_m = feature.getNumber('greening')\n",
    "    forest_sq_m = feature.area()\n",
    "    \n",
    "    return feature.set({\n",
    "        'Browning sq km': browning_sq_m.divide(1e6),\n",
    "        'Browning fraction': browning_sq_m.divide(forest_sq_m),\n",
    "        'Greening sq km': greening_sq_m.divide(1e6),\n",
    "        'Greening fraction': greening_sq_m.divide(forest_sq_m),\n",
    "    })\n",
    "\n",
    "# Apply the formatting function to the feature collection\n",
    "nps_res_formatted = npsRes.map(format_results)\n",
    "\n",
    "# Convert the feature collection to a table for export or analysis\n",
    "def extract_properties(feature):\n",
    "    return {\n",
    "        'NAME': feature.get('NAME'),\n",
    "        'Browning sq km': feature.get('Browning sq km'),\n",
    "        'Browning fraction': feature.get('Browning fraction'),\n",
    "        'Greening sq km': feature.get('Greening sq km'),\n",
    "        'Greening fraction': feature.get('Greening fraction'),\n",
    "    }"
   ]
  },
  {
   "cell_type": "code",
   "execution_count": 28,
   "metadata": {},
   "outputs": [
    {
     "data": {
      "text/html": [
       "<div>\n",
       "<style scoped>\n",
       "    .dataframe tbody tr th:only-of-type {\n",
       "        vertical-align: middle;\n",
       "    }\n",
       "\n",
       "    .dataframe tbody tr th {\n",
       "        vertical-align: top;\n",
       "    }\n",
       "\n",
       "    .dataframe thead th {\n",
       "        text-align: right;\n",
       "    }\n",
       "</style>\n",
       "<table border=\"1\" class=\"dataframe\">\n",
       "  <thead>\n",
       "    <tr style=\"text-align: right;\">\n",
       "      <th></th>\n",
       "      <th>Browning fraction</th>\n",
       "      <th>Browning sq km</th>\n",
       "      <th>Greening fraction</th>\n",
       "      <th>Greening sq km</th>\n",
       "      <th>NAME</th>\n",
       "    </tr>\n",
       "  </thead>\n",
       "  <tbody>\n",
       "    <tr>\n",
       "      <th>0</th>\n",
       "      <td>0.232595</td>\n",
       "      <td>92.055354</td>\n",
       "      <td>0.764460</td>\n",
       "      <td>302.554295</td>\n",
       "      <td>Teniente Agripino Enciso</td>\n",
       "    </tr>\n",
       "    <tr>\n",
       "      <th>1</th>\n",
       "      <td>0.400265</td>\n",
       "      <td>2892.214631</td>\n",
       "      <td>0.595640</td>\n",
       "      <td>4303.944056</td>\n",
       "      <td>Defensores del Chaco</td>\n",
       "    </tr>\n",
       "    <tr>\n",
       "      <th>2</th>\n",
       "      <td>0.373891</td>\n",
       "      <td>2269.697968</td>\n",
       "      <td>0.622631</td>\n",
       "      <td>3779.671345</td>\n",
       "      <td>Medanos del Chaco</td>\n",
       "    </tr>\n",
       "    <tr>\n",
       "      <th>3</th>\n",
       "      <td>0.302022</td>\n",
       "      <td>383.749064</td>\n",
       "      <td>0.694288</td>\n",
       "      <td>882.162258</td>\n",
       "      <td>Rio Negro</td>\n",
       "    </tr>\n",
       "    <tr>\n",
       "      <th>4</th>\n",
       "      <td>0.195410</td>\n",
       "      <td>237.265667</td>\n",
       "      <td>0.800257</td>\n",
       "      <td>971.665059</td>\n",
       "      <td>Cerro Cabrera - Timane</td>\n",
       "    </tr>\n",
       "    <tr>\n",
       "      <th>5</th>\n",
       "      <td>0.411959</td>\n",
       "      <td>406.347626</td>\n",
       "      <td>0.583515</td>\n",
       "      <td>575.566496</td>\n",
       "      <td>Cerro Chovoreca</td>\n",
       "    </tr>\n",
       "    <tr>\n",
       "      <th>6</th>\n",
       "      <td>0.465645</td>\n",
       "      <td>231.518041</td>\n",
       "      <td>0.530332</td>\n",
       "      <td>263.680442</td>\n",
       "      <td>Ñu Guazu</td>\n",
       "    </tr>\n",
       "  </tbody>\n",
       "</table>\n",
       "</div>"
      ],
      "text/plain": [
       "   Browning fraction  Browning sq km  Greening fraction  Greening sq km  \\\n",
       "0           0.232595       92.055354           0.764460      302.554295   \n",
       "1           0.400265     2892.214631           0.595640     4303.944056   \n",
       "2           0.373891     2269.697968           0.622631     3779.671345   \n",
       "3           0.302022      383.749064           0.694288      882.162258   \n",
       "4           0.195410      237.265667           0.800257      971.665059   \n",
       "5           0.411959      406.347626           0.583515      575.566496   \n",
       "6           0.465645      231.518041           0.530332      263.680442   \n",
       "\n",
       "                       NAME  \n",
       "0  Teniente Agripino Enciso  \n",
       "1      Defensores del Chaco  \n",
       "2         Medanos del Chaco  \n",
       "3                 Rio Negro  \n",
       "4    Cerro Cabrera - Timane  \n",
       "5           Cerro Chovoreca  \n",
       "6                  Ñu Guazu  "
      ]
     },
     "execution_count": 28,
     "metadata": {},
     "output_type": "execute_result"
    }
   ],
   "source": [
    "# Extract properties from all features\n",
    "formatted_results = nps_res_formatted.map(lambda feature: ee.Feature(None, extract_properties(feature)))\n",
    "\n",
    "# Convert to a Pandas DataFrame for tabular display\n",
    "features = formatted_results.getInfo()['features']\n",
    "rows = [feat['properties'] for feat in features]\n",
    "df = pd.DataFrame(rows)\n",
    "df"
   ]
  },
  {
   "cell_type": "markdown",
   "metadata": {},
   "source": [
    "**Choose suitable visualization parameters and display the slope values on the map to denote areas under greening and browning, along with the national park boundaries.**"
   ]
  },
  {
   "cell_type": "code",
   "execution_count": 29,
   "metadata": {},
   "outputs": [],
   "source": [
    "import geemap\n",
    "geemap.ee_initialize()"
   ]
  },
  {
   "cell_type": "code",
   "execution_count": 30,
   "metadata": {},
   "outputs": [
    {
     "data": {
      "text/html": [
       "\n",
       "            <style>\n",
       "                .geemap-dark {\n",
       "                    --jp-widgets-color: white;\n",
       "                    --jp-widgets-label-color: white;\n",
       "                    --jp-ui-font-color1: white;\n",
       "                    --jp-layout-color2: #454545;\n",
       "                    background-color: #383838;\n",
       "                }\n",
       "\n",
       "                .geemap-dark .jupyter-button {\n",
       "                    --jp-layout-color3: #383838;\n",
       "                }\n",
       "\n",
       "                .geemap-colab {\n",
       "                    background-color: var(--colab-primary-surface-color, white);\n",
       "                }\n",
       "\n",
       "                .geemap-colab .jupyter-button {\n",
       "                    --jp-layout-color3: var(--colab-primary-surface-color, white);\n",
       "                }\n",
       "            </style>\n",
       "            "
      ],
      "text/plain": [
       "<IPython.core.display.HTML object>"
      ]
     },
     "metadata": {},
     "output_type": "display_data"
    }
   ],
   "source": [
    "center_point = nps.geometry().centroid().getInfo()['coordinates']  # Get center coordinates\n",
    "zoom_level = 10  # Zoom level (adjust as needed)\n",
    "\n",
    "# Visualization parameters\n",
    "vis_params = {\n",
    "    'opacity': 1,\n",
    "    'bands': ['slope'],\n",
    "    'min': -55,\n",
    "    'max': 55,\n",
    "    'palette': ['8c510a', 'd8b365', 'f6e8c3', 'f5f5f5', 'd9f0d3', '7fbf7b', '1b7837']\n",
    "}\n",
    "\n",
    "# Prepare Sen's slope visualization\n",
    "clipped_sens = sens.clipToCollection(nps)\n",
    "\n",
    "# Display national park boundaries\n",
    "paimg = ee.Image().byte().paint(nps, 0, 2)"
   ]
  },
  {
   "cell_type": "code",
   "execution_count": 31,
   "metadata": {},
   "outputs": [
    {
     "data": {
      "text/html": [
       "\n",
       "            <style>\n",
       "                .geemap-dark {\n",
       "                    --jp-widgets-color: white;\n",
       "                    --jp-widgets-label-color: white;\n",
       "                    --jp-ui-font-color1: white;\n",
       "                    --jp-layout-color2: #454545;\n",
       "                    background-color: #383838;\n",
       "                }\n",
       "\n",
       "                .geemap-dark .jupyter-button {\n",
       "                    --jp-layout-color3: #383838;\n",
       "                }\n",
       "\n",
       "                .geemap-colab {\n",
       "                    background-color: var(--colab-primary-surface-color, white);\n",
       "                }\n",
       "\n",
       "                .geemap-colab .jupyter-button {\n",
       "                    --jp-layout-color3: var(--colab-primary-surface-color, white);\n",
       "                }\n",
       "            </style>\n",
       "            "
      ],
      "text/plain": [
       "<IPython.core.display.HTML object>"
      ]
     },
     "metadata": {},
     "output_type": "display_data"
    },
    {
     "data": {
      "application/vnd.jupyter.widget-view+json": {
       "model_id": "2f306e3573cd4d6eb8c7e18ddcd519d1",
       "version_major": 2,
       "version_minor": 0
      },
      "text/plain": [
       "Map(center=[-20.186360341227903, -60.6765434570433], controls=(WidgetControl(options=['position', 'transparent…"
      ]
     },
     "execution_count": 31,
     "metadata": {},
     "output_type": "execute_result"
    }
   ],
   "source": [
    "# Create a map object\n",
    "map = geemap.Map(center=center_point[::-1], zoom=zoom_level)  # Folium uses lat, lon format\n",
    "\n",
    "# Add layers to the map\n",
    "map.addLayer(clipped_sens, vis_params, \"Sen's slope\")\n",
    "map.addLayer(paimg, {'palette': '000000'}, 'National Parks')\n",
    "\n",
    "# Display the map\n",
    "map"
   ]
  },
  {
   "cell_type": "code",
   "execution_count": 32,
   "metadata": {},
   "outputs": [
    {
     "data": {
      "text/html": [
       "\n",
       "            <style>\n",
       "                .geemap-dark {\n",
       "                    --jp-widgets-color: white;\n",
       "                    --jp-widgets-label-color: white;\n",
       "                    --jp-ui-font-color1: white;\n",
       "                    --jp-layout-color2: #454545;\n",
       "                    background-color: #383838;\n",
       "                }\n",
       "\n",
       "                .geemap-dark .jupyter-button {\n",
       "                    --jp-layout-color3: #383838;\n",
       "                }\n",
       "\n",
       "                .geemap-colab {\n",
       "                    background-color: var(--colab-primary-surface-color, white);\n",
       "                }\n",
       "\n",
       "                .geemap-colab .jupyter-button {\n",
       "                    --jp-layout-color3: var(--colab-primary-surface-color, white);\n",
       "                }\n",
       "            </style>\n",
       "            "
      ],
      "text/plain": [
       "<IPython.core.display.HTML object>"
      ]
     },
     "metadata": {},
     "output_type": "display_data"
    }
   ],
   "source": [
    "# Save the map to an HTML file\n",
    "name=\"example.html\"\n",
    "map.save(name)"
   ]
  }
 ],
 "metadata": {
  "kernelspec": {
   "display_name": "Python 3",
   "language": "python",
   "name": "python3"
  },
  "language_info": {
   "codemirror_mode": {
    "name": "ipython",
    "version": 3
   },
   "file_extension": ".py",
   "mimetype": "text/x-python",
   "name": "python",
   "nbconvert_exporter": "python",
   "pygments_lexer": "ipython3",
   "version": "3.11.3"
  }
 },
 "nbformat": 4,
 "nbformat_minor": 2
}
